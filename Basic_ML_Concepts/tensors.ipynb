{
 "cells": [
  {
   "cell_type": "markdown",
   "id": "488a4618",
   "metadata": {},
   "source": [
    "### Tensors"
   ]
  },
  {
   "cell_type": "code",
   "execution_count": 2,
   "id": "fbe8d64f",
   "metadata": {},
   "outputs": [],
   "source": [
    "import numpy as np"
   ]
  },
  {
   "cell_type": "code",
   "execution_count": 11,
   "id": "b03d96cc",
   "metadata": {},
   "outputs": [],
   "source": [
    "mat=np.array([[1,2,3],[4,5,6],[7,8,9]])\n",
    "mat2=np.array([[4,4,4],[5,5,5],[3,3,3]])"
   ]
  },
  {
   "cell_type": "code",
   "execution_count": 12,
   "id": "2cb32432",
   "metadata": {},
   "outputs": [
    {
     "data": {
      "text/plain": [
       "2"
      ]
     },
     "execution_count": 12,
     "metadata": {},
     "output_type": "execute_result"
    }
   ],
   "source": [
    "mat.ndim\n",
    "mat2.ndim"
   ]
  },
  {
   "cell_type": "code",
   "execution_count": 13,
   "id": "b85778e4",
   "metadata": {},
   "outputs": [],
   "source": [
    "d3_tensor=np.array([mat,mat2])"
   ]
  },
  {
   "cell_type": "code",
   "execution_count": 15,
   "id": "407ca256",
   "metadata": {},
   "outputs": [
    {
     "name": "stdout",
     "output_type": "stream",
     "text": [
      "[[[1 2 3]\n",
      "  [4 5 6]\n",
      "  [7 8 9]]\n",
      "\n",
      " [[4 4 4]\n",
      "  [5 5 5]\n",
      "  [3 3 3]]]\n",
      "(2, 3, 3)\n"
     ]
    }
   ],
   "source": [
    "print(d3_tensor)\n",
    "print(d3_tensor.shape)"
   ]
  },
  {
   "cell_type": "code",
   "execution_count": 7,
   "id": "639f6c90",
   "metadata": {},
   "outputs": [
    {
     "data": {
      "text/plain": [
       "1"
      ]
     },
     "execution_count": 7,
     "metadata": {},
     "output_type": "execute_result"
    }
   ],
   "source": [
    "v=np.array([1,2,3])\n",
    "v.ndim"
   ]
  },
  {
   "cell_type": "code",
   "execution_count": 16,
   "id": "46f53ed9",
   "metadata": {},
   "outputs": [],
   "source": [
    "#for the pandas dataframe....df=df.iloc[row start:row end,col start:col end]"
   ]
  },
  {
   "cell_type": "code",
   "execution_count": null,
   "id": "040bd1f9",
   "metadata": {},
   "outputs": [],
   "source": []
  }
 ],
 "metadata": {
  "kernelspec": {
   "display_name": "base",
   "language": "python",
   "name": "python3"
  },
  "language_info": {
   "codemirror_mode": {
    "name": "ipython",
    "version": 3
   },
   "file_extension": ".py",
   "mimetype": "text/x-python",
   "name": "python",
   "nbconvert_exporter": "python",
   "pygments_lexer": "ipython3",
   "version": "3.12.7"
  }
 },
 "nbformat": 4,
 "nbformat_minor": 5
}
