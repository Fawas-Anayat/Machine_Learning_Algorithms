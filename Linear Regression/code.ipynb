{
 "cells": [
  {
   "cell_type": "markdown",
   "id": "fbf23ab7",
   "metadata": {},
   "source": [
    "### Linear Regression"
   ]
  },
  {
   "cell_type": "markdown",
   "id": "3a2c4b67",
   "metadata": {},
   "source": []
  }
 ],
 "metadata": {
  "language_info": {
   "name": "python"
  }
 },
 "nbformat": 4,
 "nbformat_minor": 5
}
